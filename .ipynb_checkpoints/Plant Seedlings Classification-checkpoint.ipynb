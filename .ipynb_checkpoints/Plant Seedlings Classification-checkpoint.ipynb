{
 "cells": [
  {
   "cell_type": "code",
   "execution_count": null,
   "metadata": {},
   "outputs": [],
   "source": [
    "import torch\n",
    "import torch.nn as nn\n",
    "import torchvision\n",
    "import torchvision.transforms as transforms\n",
    "import pandas as pd\n",
    "import numpy as np\n",
    "import matplotlib.pyplot as plt\n",
    "import torch.nn.functional as F\n",
    "import torchvision.models as models\n",
    "\n",
    "import os\n",
    "from PIL import Image\n",
    "plt.ion()"
   ]
  },
  {
   "cell_type": "code",
   "execution_count": null,
   "metadata": {},
   "outputs": [],
   "source": [
    "PATH = '../Datasets/Plant Seedlings Classification/'"
   ]
  },
  {
   "cell_type": "code",
   "execution_count": null,
   "metadata": {},
   "outputs": [],
   "source": [
    "#loadingg test set data:\n",
    "def load_test_data(data_path,transform):\n",
    "    temp = []\n",
    "    \n",
    "    allTestImages = os.listdir(data_path)\n",
    "    for x in allTestImages:\n",
    "        img = Image.open(data_path+'/'+allTestImages[1])\n",
    "        temp.append(transform(np.array(img)))\n",
    "        \n",
    "    return temp"
   ]
  },
  {
   "cell_type": "code",
   "execution_count": null,
   "metadata": {},
   "outputs": [],
   "source": [
    "def normalize_img(img):\n",
    "    return img/255"
   ]
  },
  {
   "cell_type": "code",
   "execution_count": null,
   "metadata": {},
   "outputs": [],
   "source": [
    "#Loading train dataset\n",
    "transform = {'train': transforms.Compose([\n",
    "    transforms.CenterCrop(224),\n",
    "    transforms.RandomHorizontalFlip(),\n",
    "    transforms.ToTensor(),\n",
    "    transforms.Lambda(lambda x: normalize_img(x))\n",
    "]),\n",
    "  'test':transforms.Compose([\n",
    "    transforms.ToPILImage(),\n",
    "    transforms.CenterCrop(224),\n",
    "    transforms.RandomHorizontalFlip(),\n",
    "    transforms.ToTensor(),\n",
    "    transforms.Lambda(lambda x: normalize_img(x))\n",
    "])\n",
    "}\n",
    "trainData = torchvision.datasets.ImageFolder(root=PATH+'train',transform=transform['train'])\n",
    "trainLen = len(trainData)\n",
    "trainData1, valData = torch.utils.data.dataset.random_split(trainData,[int((trainLen*4)/5),int(trainLen/5)])\n",
    "\n",
    "trainData1Loader = torch.utils.data.DataLoader(dataset=trainData1, shuffle=False, batch_size=4)\n",
    "valDataLoader = torch.utils.data.DataLoader(dataset=valData, shuffle=False, batch_size=4)\n",
    "\n",
    "######## DIVIDE BY 255 ############### TO NORMALIZE THE DATA. forget about transforms.Normalize\n",
    "# print(\"Length of train data = \",trainLen)\n",
    "# img_means = torch.stack([t.mean(1).mean(1) for t,c in trainData])\n",
    "# print(img_means)"
   ]
  },
  {
   "cell_type": "code",
   "execution_count": null,
   "metadata": {},
   "outputs": [],
   "source": [
    "len(valData)"
   ]
  },
  {
   "cell_type": "code",
   "execution_count": null,
   "metadata": {},
   "outputs": [],
   "source": [
    "#Loading test dataset\n",
    "testData = torch.stack(load_test_data(PATH+'test',transform=transform['test'])) #For converting list to tensor\n",
    "# testData = transform(testData)\n",
    "testDataLoader = torch.utils.data.DataLoader(dataset=testData, batch_size=4)\n",
    "device = torch.device(\"cuda\" if torch.cuda.is_available() else \"cpu\")"
   ]
  },
  {
   "cell_type": "code",
   "execution_count": null,
   "metadata": {},
   "outputs": [],
   "source": [
    "print(\"TRAIN DATASET === \")\n",
    "print(\"No. of examples = \",len(trainData1Loader.dataset))\n",
    "print(\"VAL SET ==== \")\n",
    "print(\"No. of examples =\",len(valDataLoader.dataset))\n",
    "print(\"\\nTEST DATASET ===\")\n",
    "print(\"No. of exmaples = \",testDataLoader.dataset.size()[0])"
   ]
  },
  {
   "cell_type": "code",
   "execution_count": null,
   "metadata": {},
   "outputs": [],
   "source": [
    "#Visualizing Train dataset\n",
    "'''\n",
    "In trainDataLoader Dimensions are given as\n",
    "dim. index              0    1    2\n",
    "Actual Dims.           [3   128  128]\n",
    "\n",
    "These dimension are not suitable for plt.imshow() it needs dimensions in the format HxWxC but we have CxHxW\n",
    "So to change this we need our this dim. sequence = 0,1,2 in this format i.e. new dim. sequence 1,2,0 i.e. HxWxC\n",
    "So thats what np.transpose(img,(1,2,0)) is doing its changing the dims to suitable format.\n",
    "'''\n",
    "\n",
    "def imageShow(img):\n",
    "    img = 255*np.transpose(img.numpy(),(1,2,0))\n",
    "    plt.imshow(img)\n",
    "    plt.xlabel('Train images batch = 4')\n",
    "    \n",
    "iterator = iter(trainData1Loader)\n",
    "image, label =  iterator.next()\n",
    "\n",
    "imageShow(torchvision.utils.make_grid(image))\n",
    "# print('Ground Truth = \\n',' '.join('%10s' % trainData1Loader.dataset.classes[x] for x in label.numpy()))\n"
   ]
  },
  {
   "cell_type": "code",
   "execution_count": null,
   "metadata": {},
   "outputs": [],
   "source": [
    "# Forward => loss => backward => update_weights\n",
    "def train_model(model,criterion,optimizer,scheduler,dataloader,dictionary,num_epochs=4):\n",
    "    correct = 0\n",
    "    total = 0\n",
    "    totalLoss = []\n",
    "    prediction = []\n",
    "    temp = [] \n",
    "    \n",
    "    for epoch in range(num_epochs):\n",
    "        print('Epoch {}/{}\\n'.format(epoch,num_epochs-1),flush=True)\n",
    "        scheduler.step()   #to step or to update weights\n",
    "        model.train()\n",
    "            \n",
    "        for batch_id,(image,label) in enumerate(dataloader):\n",
    "            optimizer.zero_grad()\n",
    "                \n",
    "            image = image.to(device)\n",
    "            label = label.to(device)\n",
    "                \n",
    "            outputs = model(image)\n",
    "            _, predictionIndex = torch.max(outputs,1)\n",
    "            loss = criterion(outputs,label)\n",
    "            prediction.append(predictionIndex)\n",
    "            \n",
    "            #printing loss =\n",
    "            print(\"batch = \"+str(batch_id)+\" Loss = {0:.5f}\".format(loss.item()),end=\"\\r\",flush=True)\n",
    "            correct += (predictionIndex == label).sum().item()\n",
    "            total +=label.size(0)\n",
    "            \n",
    "            loss.backward()\n",
    "            optimizer.step()        \n",
    "            \n",
    "            del image, label    #important\n",
    "            \n",
    "        totalLoss.append(loss)\n",
    "#         prediction.append(temp)\n",
    "        torch.cuda.empty_cache()      #important\n",
    "        \n",
    "    dictionary['totalLoss'] = totalLoss\n",
    "    dictionary['correct'] = correct\n",
    "    dictionary['totalSize'] = total\n",
    "    dictionary['prediction'] = prediction\n",
    "    \n",
    "    #ALWAYS return the model object\n",
    "    return model,dictionary"
   ]
  },
  {
   "cell_type": "code",
   "execution_count": null,
   "metadata": {
    "scrolled": true
   },
   "outputs": [],
   "source": [
    "# #Unfreezing layers\n",
    "\n",
    "# model_ft = models.vgg16(pretrained=True)\n",
    "    \n",
    "# model_ft.classifier[6].out_features = 12\n",
    "\n",
    "\n",
    "# # num_ftr = model_ft.fc.in_features\n",
    "\n",
    "# # model_ft.fc = nn.Linear(num_ftr,12)\n",
    "# # # model_ft.fc1 = nn.LogSoftmax()\n",
    "# # # # print(model_ft.parameters)\n",
    "# model_ft = model_ft.to(device)\n",
    "# # print(model_ft)\n",
    "# criterion = nn.CrossEntropyLoss().cuda()\n",
    "\n",
    "# optimizer_ft = torch.optim.SGD(params=model_ft.parameters(), lr=0.001, momentum=0.9)\n",
    "\n",
    "# exp_lr_scheduler = torch.optim.lr_scheduler.StepLR(optimizer_ft, step_size=7, gamma=0.1)\n"
   ]
  },
  {
   "cell_type": "code",
   "execution_count": null,
   "metadata": {
    "scrolled": false
   },
   "outputs": [],
   "source": [
    "# dictModel = {}\n",
    "# model_ft,dictModel = train_model(model_ft,criterion,optimizer_ft,exp_lr_scheduler,dictionary=dictModel,num_epochs=12,dataloader=trainData1Loader)"
   ]
  },
  {
   "cell_type": "code",
   "execution_count": null,
   "metadata": {
    "scrolled": false
   },
   "outputs": [],
   "source": [
    "# FREEZE the LAYERS:\n",
    "\n",
    "model_conv = models.vgg16(pretrained=True)\n",
    "# cnt = 0\n",
    "# for params in model_conv.parameters():\n",
    "#     if(cnt<=9):\n",
    "#         params.requires_grad = False\n",
    "#     cnt+=1\n",
    "model_conv.features.requires_grad = False\n",
    "model_conv.classifier.requires_grad = True\n",
    "# model_conv.classifier[6].requires_grad = True\n",
    "\n",
    "model_conv.classifier[6].out_features = 12\n",
    "# print(model_ft)\n",
    "\n",
    "# num_ftr = model_conv.fc.in_features\n",
    "\n",
    "# model_conv.fc = nn.Linear(num_ftr,12)\n",
    "# # model_ft.fc1 = nn.LogSoftmax()\n",
    "# # # print(model_ft.parameters)\n",
    "\n",
    "model_conv = model_conv.to(device)\n",
    "\n",
    "criterion = nn.CrossEntropyLoss().cuda()\n",
    "\n",
    "optimizer_ft_conv = torch.optim.SGD(params=model_conv.classifier.parameters(), lr=0.001, momentum=0.9)\n",
    "\n",
    "exp_lr_scheduler = torch.optim.lr_scheduler.StepLR(optimizer_ft_conv, step_size=7, gamma=0.1)"
   ]
  },
  {
   "cell_type": "code",
   "execution_count": null,
   "metadata": {},
   "outputs": [],
   "source": [
    "dictModel = {}\n",
    "model_ft,dictModel = train_model(model_conv,criterion,optimizer_ft_conv,exp_lr_scheduler,dictionary=dictModel,num_epochs=2,dataloader=trainData1Loader)"
   ]
  },
  {
   "cell_type": "code",
   "execution_count": null,
   "metadata": {},
   "outputs": [],
   "source": [
    "dictModel"
   ]
  },
  {
   "cell_type": "code",
   "execution_count": null,
   "metadata": {},
   "outputs": [],
   "source": [
    "#loss vs iteration graph:\n",
    "plt.plot(dictModel['totalLoss'])\n",
    "plt.xlabel('epochs')\n",
    "plt.ylabel('loss')"
   ]
  },
  {
   "cell_type": "code",
   "execution_count": null,
   "metadata": {},
   "outputs": [],
   "source": [
    "print(\"Train Accuracy = \",100*(dictModel['correct']/dictModel['totalSize']))"
   ]
  },
  {
   "cell_type": "code",
   "execution_count": null,
   "metadata": {},
   "outputs": [],
   "source": [
    "#Validation set:\n",
    "dict_model_val = {}\n",
    "model_ft_val,dict_model_val = train_model(model_conv,criterion,optimizer_ft,exp_lr_scheduler,dictionary=dict_model_val,num_epochs=5,dataloader=valDataLoader)"
   ]
  },
  {
   "cell_type": "code",
   "execution_count": null,
   "metadata": {},
   "outputs": [],
   "source": [
    "print(\"Val Accuracy = \",100*(dict_model_val['correct']/dict_model_val['totalSize']))"
   ]
  },
  {
   "cell_type": "code",
   "execution_count": null,
   "metadata": {},
   "outputs": [],
   "source": [
    "# Validation set\n",
    "plt.plot(dict_model_val['totalLoss'])\n",
    "plt.xlabel('epochs')\n",
    "plt.ylabel('loss')"
   ]
  },
  {
   "cell_type": "code",
   "execution_count": null,
   "metadata": {
    "scrolled": true
   },
   "outputs": [],
   "source": [
    "model_conv = model_conv.to(device)\n",
    "model_conv = model_conv.eval()\n",
    "\n",
    "result = []\n",
    "\n",
    "# for batch_id,image in enumerate(testDataLoader):\n",
    "#     img = image.to(device)\n",
    "# #     print(img.size())\n",
    "#     ip = torch.autograd.Variable(img)\n",
    "#     testOutput = model_conv(ip)\n",
    "#     _, testPredictionIndex = torch.max(testOutput,1)\n",
    "#     result.append(testPredictionIndex)\n",
    "    \n",
    "temp = torch.unsqueeze(testDataLoader.dataset[0],0)\n",
    "# x = model_conv(temp.cuda())\n",
    "print(temp)"
   ]
  },
  {
   "cell_type": "code",
   "execution_count": null,
   "metadata": {},
   "outputs": [],
   "source": [
    "result"
   ]
  },
  {
   "cell_type": "code",
   "execution_count": null,
   "metadata": {},
   "outputs": [],
   "source": [
    "temp = []\n",
    "for x in result:\n",
    "    for y in x.cpu().numpy():\n",
    "        temp.append(y)\n",
    "len(temp)"
   ]
  },
  {
   "cell_type": "code",
   "execution_count": null,
   "metadata": {},
   "outputs": [],
   "source": [
    "dfDict = {\n",
    "    'file':os.listdir(PATH+'test'),\n",
    "    'species':[trainData.classes[m] for m in temp]\n",
    "}\n",
    "df = pd.DataFrame(dfDict)\n",
    "df.to_csv(path_or_buf='submission.csv',index=False)\n",
    "print(df)"
   ]
  }
 ],
 "metadata": {
  "kernelspec": {
   "display_name": "Python 3",
   "language": "python",
   "name": "python3"
  },
  "language_info": {
   "codemirror_mode": {
    "name": "ipython",
    "version": 3
   },
   "file_extension": ".py",
   "mimetype": "text/x-python",
   "name": "python",
   "nbconvert_exporter": "python",
   "pygments_lexer": "ipython3",
   "version": "3.6.5"
  }
 },
 "nbformat": 4,
 "nbformat_minor": 2
}
